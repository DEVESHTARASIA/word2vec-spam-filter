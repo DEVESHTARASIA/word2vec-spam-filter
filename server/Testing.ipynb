{
 "cells": [
  {
   "cell_type": "code",
   "execution_count": 1,
   "metadata": {},
   "outputs": [],
   "source": [
    "import requests\n",
    "BASE_URL = 'http://localhost:5000'\n",
    "\n",
    "def report(msg, vector):\n",
    "    requests.get(BASE_URL + '/spam/report',\n",
    "             json={'vector': vector,\n",
    "                   'message': msg}\n",
    "            ).ok\n",
    "\n",
    "def is_spam(vector):\n",
    "    data = requests.get(BASE_URL + '/spam/detect',\n",
    "                        params={'vector': ','.join(str(v) for v in vector)}\n",
    "            ).json()\n",
    "    return data['spam'], data['confidence']\n",
    "\n",
    "def get_word_vectors(indexes):\n",
    "    data = requests.get(BASE_URL + '/words/vector',\n",
    "                        params={'ids': ','.join(str(i) for i in indexes)}).json()\n",
    "    return {int(k): v['vector'] for k,v in data['words'].items()}\n",
    "\n",
    "def get_word_indexes():\n",
    "    \"\"\"return a dict of word to index.\"\"\"\n",
    "    content = requests.get(BASE_URL + '/words/list').content\n",
    "    return {word: i for i, word in enumerate(content.split('\\n'))}"
   ]
  },
  {
   "cell_type": "code",
   "execution_count": 2,
   "metadata": {},
   "outputs": [],
   "source": [
    "WORD_INDEXES = get_word_indexes()\n",
    "\n",
    "\n",
    "def calc_message(message):\n",
    "    import random\n",
    "    import numpy as np\n",
    "    \n",
    "    indexes = [WORD_INDEXES[word] \n",
    "               for word in message.split(' ')\n",
    "               if word in WORD_INDEXES]\n",
    "    fakes = [random.randint(0, len(WORD_INDEXES)) for _ in range(20)]\n",
    "    \n",
    "    shuffled = indexes + fakes\n",
    "    random.shuffle(shuffled)\n",
    "    vectors = get_word_vectors(shuffled)\n",
    "    vec_sum = sum(np.array(vectors[i]) for i in indexes).tolist()\n",
    "    return vec_sum"
   ]
  },
  {
   "cell_type": "code",
   "execution_count": 3,
   "metadata": {},
   "outputs": [],
   "source": [
    "spams = [\n",
    "    'Want to see my nudes? meet me at http://www.rounds.com. see you around!',\n",
    "    'come see me on camera just add your credit card http://getsomenudes.com',\n",
    "    'free pics and live video come here bit.ly/ERERERERE'\n",
    "]\n",
    "good = [\n",
    "    'Hi I am your mother and I love you',\n",
    "    'Did you watch the movie last night?',\n",
    "    'Whats up with all the weird clouds?',\n",
    "]"
   ]
  },
  {
   "cell_type": "code",
   "execution_count": 38,
   "metadata": {},
   "outputs": [],
   "source": [
    "def is_spam_message(msg):\n",
    "    return is_spam(calc_message(msg))\n",
    "def report_spam_message(msg):\n",
    "    report(msg, calc_message(msg))"
   ]
  },
  {
   "cell_type": "code",
   "execution_count": 82,
   "metadata": {},
   "outputs": [
    {
     "data": {
      "text/plain": [
       "(False, 0.9036066533202494)"
      ]
     },
     "execution_count": 82,
     "metadata": {},
     "output_type": "execute_result"
    }
   ],
   "source": [
    "# register spam messages\n",
    "for msg in spams:\n",
    "    for i in range(4):\n",
    "        report_spam_message(msg)\n",
    "\n"
   ]
  },
  {
   "cell_type": "code",
   "execution_count": 78,
   "metadata": {},
   "outputs": [],
   "source": [
    "is_spam_message(good[2])"
   ]
  },
  {
   "cell_type": "code",
   "execution_count": 83,
   "metadata": {},
   "outputs": [
    {
     "data": {
      "text/plain": [
       "(True, 1.0000000000000004)"
      ]
     },
     "execution_count": 83,
     "metadata": {},
     "output_type": "execute_result"
    }
   ],
   "source": [
    "is_spam_message(spams[2])"
   ]
  },
  {
   "cell_type": "code",
   "execution_count": 95,
   "metadata": {},
   "outputs": [
    {
     "data": {
      "text/plain": [
       "(False, 0.9627453035194151)"
      ]
     },
     "execution_count": 95,
     "metadata": {},
     "output_type": "execute_result"
    }
   ],
   "source": [
    "is_spam_message('Want to eat some cake? meet me at the coff. see you there!')"
   ]
  }
 ],
 "metadata": {
  "kernelspec": {
   "display_name": "Python 2",
   "language": "python",
   "name": "python2"
  },
  "language_info": {
   "codemirror_mode": {
    "name": "ipython",
    "version": 2
   },
   "file_extension": ".py",
   "mimetype": "text/x-python",
   "name": "python",
   "nbconvert_exporter": "python",
   "pygments_lexer": "ipython2",
   "version": "2.7.14"
  }
 },
 "nbformat": 4,
 "nbformat_minor": 2
}
